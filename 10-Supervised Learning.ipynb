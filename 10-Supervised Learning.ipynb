{
 "cells": [
  {
   "cell_type": "markdown",
   "id": "7b474031",
   "metadata": {},
   "source": [
    "# Project description"
   ]
  },
  {
   "cell_type": "markdown",
   "id": "811f3418",
   "metadata": {},
   "source": [
    "Beta Bank customers are leaving every month. The bankers figured out it’s cheaper to save the existing customers rather than to attract new ones.\n",
    "\n",
    "We need to predict whether a customer will leave the bank soon, using the data on clients’ past behavior and termination of contracts with the bank.\n",
    "\n",
    "We'll build a model with the maximum possible F1 score (over 0.59)."
   ]
  },
  {
   "cell_type": "markdown",
   "id": "5e1cfa69",
   "metadata": {},
   "source": [
    "# Data description"
   ]
  },
  {
   "cell_type": "markdown",
   "id": "5360f9a0",
   "metadata": {},
   "source": [
    "**Features**\n",
    "- `RowNumber` — data string index\n",
    "- `CustomerId` — unique customer identifier\n",
    "- `Surname` — surname\n",
    "- `CreditScore` — credit score\n",
    "- `Geography` — country of residence\n",
    "- `Gender` — gender\n",
    "- `Age` — age\n",
    "- `Tenure` — period of maturation for a customer’s fixed deposit (years)\n",
    "- `Balance` — account balance\n",
    "- `NumOfProducts` — number of banking products used by the customer\n",
    "- `HasCrCard` — customer has a credit card\n",
    "- `IsActiveMember` — customer’s activeness\n",
    "- `EstimatedSalary` — estimated salary\n",
    "\n",
    "**Target**\n",
    "- `Exited` — сustomer has left"
   ]
  },
  {
   "cell_type": "markdown",
   "id": "e4fb0d10",
   "metadata": {},
   "source": [
    "# Library imports"
   ]
  },
  {
   "cell_type": "code",
   "execution_count": 1,
   "id": "14aaeca6",
   "metadata": {},
   "outputs": [],
   "source": [
    "#Libraries and project environment setup:\n",
    "\n",
    "##Pandas, Numpy, Re and Datetime for data preprocessing and manipulation\n",
    "import pandas as pd\n",
    "import numpy as np\n",
    "import re\n",
    "import datetime\n",
    "from datetime import datetime\n",
    "\n",
    "##Remove warnings\n",
    "import sys\n",
    "import warnings\n",
    "if not sys.warnoptions:\n",
    "   warnings.simplefilter(\"ignore\");\n",
    "\n",
    "##Scipy, Math and Random for SDA\n",
    "from scipy import stats as st\n",
    "from scipy.stats import loguniform\n",
    "import math as mth\n",
    "import random\n",
    "\n",
    "##Matplotlib, Seaborn, Plotly, Altair and Streamlit for visualization\n",
    "import matplotlib.pyplot as plt\n",
    "from matplotlib.lines import Line2D\n",
    "from matplotlib import rcParams\n",
    "from matplotlib.pyplot import figure\n",
    "import seaborn as sns\n",
    "import plotly.express as px\n",
    "import plotly.graph_objects as go\n",
    "import plotly.graph_objects as go\n",
    "from plotly import tools\n",
    "import plotly.offline as py\n",
    "import altair as alt\n",
    "import streamlit as sl\n",
    "from IPython.display import Image\n",
    "\n",
    "#USAddress for handling USA addresses in DF\n",
    "import usaddress\n",
    "\n",
    "#SKLearn and JobLib for ML\n",
    "import sklearn\n",
    "from sklearn.datasets import make_blobs\n",
    "from sklearn.dummy import DummyClassifier\n",
    "from sklearn.ensemble import RandomForestClassifier\n",
    "from sklearn.ensemble import RandomForestRegressor\n",
    "from sklearn.linear_model import LogisticRegression\n",
    "from sklearn.linear_model import LinearRegression\n",
    "from sklearn.metrics import accuracy_score\n",
    "from sklearn.metrics import mean_squared_error, mean_absolute_error\n",
    "from sklearn.metrics import f1_score\n",
    "from sklearn.metrics import roc_curve\n",
    "from sklearn.metrics import roc_auc_score\n",
    "from sklearn.model_selection import train_test_split\n",
    "from sklearn.model_selection import RepeatedStratifiedKFold\n",
    "from sklearn.model_selection import GridSearchCV\n",
    "from sklearn.model_selection import RandomizedSearchCV\n",
    "from sklearn.preprocessing import StandardScaler as ss\n",
    "from sklearn.tree import DecisionTreeClassifier\n",
    "from sklearn.tree import DecisionTreeRegressor\n",
    "from sklearn.utils import shuffle\n",
    "import joblib\n",
    "from joblib import dump"
   ]
  },
  {
   "cell_type": "markdown",
   "id": "90b355f7",
   "metadata": {},
   "source": [
    "# CSV file read"
   ]
  },
  {
   "cell_type": "code",
   "execution_count": 2,
   "id": "e6882227",
   "metadata": {},
   "outputs": [],
   "source": [
    "#We use try-except to handle unexpected errors\n",
    "try:\n",
    "    df=pd.read_csv('/Downloads/Churn.csv')\n",
    "\n",
    "except:\n",
    "    df=pd.read_csv('https://code.s3.yandex.net/datasets/Churn.csv')"
   ]
  },
  {
   "cell_type": "markdown",
   "id": "82069d99",
   "metadata": {},
   "source": [
    "# General info"
   ]
  },
  {
   "cell_type": "code",
   "execution_count": 3,
   "id": "19b84c7c",
   "metadata": {},
   "outputs": [
    {
     "data": {
      "text/html": [
       "<div>\n",
       "<style scoped>\n",
       "    .dataframe tbody tr th:only-of-type {\n",
       "        vertical-align: middle;\n",
       "    }\n",
       "\n",
       "    .dataframe tbody tr th {\n",
       "        vertical-align: top;\n",
       "    }\n",
       "\n",
       "    .dataframe thead th {\n",
       "        text-align: right;\n",
       "    }\n",
       "</style>\n",
       "<table border=\"1\" class=\"dataframe\">\n",
       "  <thead>\n",
       "    <tr style=\"text-align: right;\">\n",
       "      <th></th>\n",
       "      <th>RowNumber</th>\n",
       "      <th>CustomerId</th>\n",
       "      <th>Surname</th>\n",
       "      <th>CreditScore</th>\n",
       "      <th>Geography</th>\n",
       "      <th>Gender</th>\n",
       "      <th>Age</th>\n",
       "      <th>Tenure</th>\n",
       "      <th>Balance</th>\n",
       "      <th>NumOfProducts</th>\n",
       "      <th>HasCrCard</th>\n",
       "      <th>IsActiveMember</th>\n",
       "      <th>EstimatedSalary</th>\n",
       "      <th>Exited</th>\n",
       "    </tr>\n",
       "  </thead>\n",
       "  <tbody>\n",
       "    <tr>\n",
       "      <th>0</th>\n",
       "      <td>1</td>\n",
       "      <td>15634602</td>\n",
       "      <td>Hargrave</td>\n",
       "      <td>619</td>\n",
       "      <td>France</td>\n",
       "      <td>Female</td>\n",
       "      <td>42</td>\n",
       "      <td>2.0</td>\n",
       "      <td>0.00</td>\n",
       "      <td>1</td>\n",
       "      <td>1</td>\n",
       "      <td>1</td>\n",
       "      <td>101348.88</td>\n",
       "      <td>1</td>\n",
       "    </tr>\n",
       "    <tr>\n",
       "      <th>1</th>\n",
       "      <td>2</td>\n",
       "      <td>15647311</td>\n",
       "      <td>Hill</td>\n",
       "      <td>608</td>\n",
       "      <td>Spain</td>\n",
       "      <td>Female</td>\n",
       "      <td>41</td>\n",
       "      <td>1.0</td>\n",
       "      <td>83807.86</td>\n",
       "      <td>1</td>\n",
       "      <td>0</td>\n",
       "      <td>1</td>\n",
       "      <td>112542.58</td>\n",
       "      <td>0</td>\n",
       "    </tr>\n",
       "    <tr>\n",
       "      <th>2</th>\n",
       "      <td>3</td>\n",
       "      <td>15619304</td>\n",
       "      <td>Onio</td>\n",
       "      <td>502</td>\n",
       "      <td>France</td>\n",
       "      <td>Female</td>\n",
       "      <td>42</td>\n",
       "      <td>8.0</td>\n",
       "      <td>159660.80</td>\n",
       "      <td>3</td>\n",
       "      <td>1</td>\n",
       "      <td>0</td>\n",
       "      <td>113931.57</td>\n",
       "      <td>1</td>\n",
       "    </tr>\n",
       "    <tr>\n",
       "      <th>3</th>\n",
       "      <td>4</td>\n",
       "      <td>15701354</td>\n",
       "      <td>Boni</td>\n",
       "      <td>699</td>\n",
       "      <td>France</td>\n",
       "      <td>Female</td>\n",
       "      <td>39</td>\n",
       "      <td>1.0</td>\n",
       "      <td>0.00</td>\n",
       "      <td>2</td>\n",
       "      <td>0</td>\n",
       "      <td>0</td>\n",
       "      <td>93826.63</td>\n",
       "      <td>0</td>\n",
       "    </tr>\n",
       "    <tr>\n",
       "      <th>4</th>\n",
       "      <td>5</td>\n",
       "      <td>15737888</td>\n",
       "      <td>Mitchell</td>\n",
       "      <td>850</td>\n",
       "      <td>Spain</td>\n",
       "      <td>Female</td>\n",
       "      <td>43</td>\n",
       "      <td>2.0</td>\n",
       "      <td>125510.82</td>\n",
       "      <td>1</td>\n",
       "      <td>1</td>\n",
       "      <td>1</td>\n",
       "      <td>79084.10</td>\n",
       "      <td>0</td>\n",
       "    </tr>\n",
       "  </tbody>\n",
       "</table>\n",
       "</div>"
      ],
      "text/plain": [
       "   RowNumber  CustomerId   Surname  CreditScore Geography  Gender  Age  \\\n",
       "0          1    15634602  Hargrave          619    France  Female   42   \n",
       "1          2    15647311      Hill          608     Spain  Female   41   \n",
       "2          3    15619304      Onio          502    France  Female   42   \n",
       "3          4    15701354      Boni          699    France  Female   39   \n",
       "4          5    15737888  Mitchell          850     Spain  Female   43   \n",
       "\n",
       "   Tenure    Balance  NumOfProducts  HasCrCard  IsActiveMember  \\\n",
       "0     2.0       0.00              1          1               1   \n",
       "1     1.0   83807.86              1          0               1   \n",
       "2     8.0  159660.80              3          1               0   \n",
       "3     1.0       0.00              2          0               0   \n",
       "4     2.0  125510.82              1          1               1   \n",
       "\n",
       "   EstimatedSalary  Exited  \n",
       "0        101348.88       1  \n",
       "1        112542.58       0  \n",
       "2        113931.57       1  \n",
       "3         93826.63       0  \n",
       "4         79084.10       0  "
      ]
     },
     "execution_count": 3,
     "metadata": {},
     "output_type": "execute_result"
    }
   ],
   "source": [
    "#First, in order to guarantee efficiency we immediately drop row-based duplicates\n",
    "df.drop_duplicates(inplace=True,keep='last')\n",
    "df.reset_index(drop=True, inplace=True)\n",
    "\n",
    "#Print the first five entries in the dataframe\n",
    "df.head()"
   ]
  },
  {
   "cell_type": "markdown",
   "id": "9bdcff31",
   "metadata": {},
   "source": [
    "- No NaN values.\n",
    "- `RowNumber` and `CustomerId` columns are practically indexes, we'll drop these columns and keep the automatic index.\n",
    "- `Surname` doesn't impact target, so it will be dropped."
   ]
  },
  {
   "cell_type": "code",
   "execution_count": 4,
   "id": "07b0375d",
   "metadata": {},
   "outputs": [
    {
     "name": "stdout",
     "output_type": "stream",
     "text": [
      "<class 'pandas.core.frame.DataFrame'>\n",
      "RangeIndex: 10000 entries, 0 to 9999\n",
      "Data columns (total 14 columns):\n",
      " #   Column           Non-Null Count  Dtype  \n",
      "---  ------           --------------  -----  \n",
      " 0   RowNumber        10000 non-null  int64  \n",
      " 1   CustomerId       10000 non-null  int64  \n",
      " 2   Surname          10000 non-null  object \n",
      " 3   CreditScore      10000 non-null  int64  \n",
      " 4   Geography        10000 non-null  object \n",
      " 5   Gender           10000 non-null  object \n",
      " 6   Age              10000 non-null  int64  \n",
      " 7   Tenure           9091 non-null   float64\n",
      " 8   Balance          10000 non-null  float64\n",
      " 9   NumOfProducts    10000 non-null  int64  \n",
      " 10  HasCrCard        10000 non-null  int64  \n",
      " 11  IsActiveMember   10000 non-null  int64  \n",
      " 12  EstimatedSalary  10000 non-null  float64\n",
      " 13  Exited           10000 non-null  int64  \n",
      "dtypes: float64(3), int64(8), object(3)\n",
      "memory usage: 1.1+ MB\n"
     ]
    }
   ],
   "source": [
    "#General file examination (missing values and data types)\n",
    "df.info()"
   ]
  },
  {
   "cell_type": "markdown",
   "id": "d1640757",
   "metadata": {},
   "source": [
    "- Results show column names are accurate to the project data description.\n",
    "- Dataset includes 10000 entries and 14 columns.\n",
    "- 909 missing values in `Tenure` column.\n",
    "- Data types seem fine."
   ]
  },
  {
   "cell_type": "code",
   "execution_count": 5,
   "id": "7a5bf0e7",
   "metadata": {
    "scrolled": true
   },
   "outputs": [
    {
     "name": "stderr",
     "output_type": "stream",
     "text": [
      "2022-09-09 19:27:15.575 INFO    numexpr.utils: NumExpr defaulting to 4 threads.\n"
     ]
    },
    {
     "data": {
      "text/html": [
       "<div>\n",
       "<style scoped>\n",
       "    .dataframe tbody tr th:only-of-type {\n",
       "        vertical-align: middle;\n",
       "    }\n",
       "\n",
       "    .dataframe tbody tr th {\n",
       "        vertical-align: top;\n",
       "    }\n",
       "\n",
       "    .dataframe thead th {\n",
       "        text-align: right;\n",
       "    }\n",
       "</style>\n",
       "<table border=\"1\" class=\"dataframe\">\n",
       "  <thead>\n",
       "    <tr style=\"text-align: right;\">\n",
       "      <th></th>\n",
       "      <th>RowNumber</th>\n",
       "      <th>CustomerId</th>\n",
       "      <th>Surname</th>\n",
       "      <th>CreditScore</th>\n",
       "      <th>Geography</th>\n",
       "      <th>Gender</th>\n",
       "      <th>Age</th>\n",
       "      <th>Tenure</th>\n",
       "      <th>Balance</th>\n",
       "      <th>NumOfProducts</th>\n",
       "      <th>HasCrCard</th>\n",
       "      <th>IsActiveMember</th>\n",
       "      <th>EstimatedSalary</th>\n",
       "      <th>Exited</th>\n",
       "    </tr>\n",
       "  </thead>\n",
       "  <tbody>\n",
       "    <tr>\n",
       "      <th>count</th>\n",
       "      <td>10000.00000</td>\n",
       "      <td>1.000000e+04</td>\n",
       "      <td>10000</td>\n",
       "      <td>10000.000000</td>\n",
       "      <td>10000</td>\n",
       "      <td>10000</td>\n",
       "      <td>10000.000000</td>\n",
       "      <td>9091.000000</td>\n",
       "      <td>10000.000000</td>\n",
       "      <td>10000.000000</td>\n",
       "      <td>10000.00000</td>\n",
       "      <td>10000.000000</td>\n",
       "      <td>10000.000000</td>\n",
       "      <td>10000.000000</td>\n",
       "    </tr>\n",
       "    <tr>\n",
       "      <th>unique</th>\n",
       "      <td>NaN</td>\n",
       "      <td>NaN</td>\n",
       "      <td>2932</td>\n",
       "      <td>NaN</td>\n",
       "      <td>3</td>\n",
       "      <td>2</td>\n",
       "      <td>NaN</td>\n",
       "      <td>NaN</td>\n",
       "      <td>NaN</td>\n",
       "      <td>NaN</td>\n",
       "      <td>NaN</td>\n",
       "      <td>NaN</td>\n",
       "      <td>NaN</td>\n",
       "      <td>NaN</td>\n",
       "    </tr>\n",
       "    <tr>\n",
       "      <th>top</th>\n",
       "      <td>NaN</td>\n",
       "      <td>NaN</td>\n",
       "      <td>Smith</td>\n",
       "      <td>NaN</td>\n",
       "      <td>France</td>\n",
       "      <td>Male</td>\n",
       "      <td>NaN</td>\n",
       "      <td>NaN</td>\n",
       "      <td>NaN</td>\n",
       "      <td>NaN</td>\n",
       "      <td>NaN</td>\n",
       "      <td>NaN</td>\n",
       "      <td>NaN</td>\n",
       "      <td>NaN</td>\n",
       "    </tr>\n",
       "    <tr>\n",
       "      <th>freq</th>\n",
       "      <td>NaN</td>\n",
       "      <td>NaN</td>\n",
       "      <td>32</td>\n",
       "      <td>NaN</td>\n",
       "      <td>5014</td>\n",
       "      <td>5457</td>\n",
       "      <td>NaN</td>\n",
       "      <td>NaN</td>\n",
       "      <td>NaN</td>\n",
       "      <td>NaN</td>\n",
       "      <td>NaN</td>\n",
       "      <td>NaN</td>\n",
       "      <td>NaN</td>\n",
       "      <td>NaN</td>\n",
       "    </tr>\n",
       "    <tr>\n",
       "      <th>mean</th>\n",
       "      <td>5000.50000</td>\n",
       "      <td>1.569094e+07</td>\n",
       "      <td>NaN</td>\n",
       "      <td>650.528800</td>\n",
       "      <td>NaN</td>\n",
       "      <td>NaN</td>\n",
       "      <td>38.921800</td>\n",
       "      <td>4.997690</td>\n",
       "      <td>76485.889288</td>\n",
       "      <td>1.530200</td>\n",
       "      <td>0.70550</td>\n",
       "      <td>0.515100</td>\n",
       "      <td>100090.239881</td>\n",
       "      <td>0.203700</td>\n",
       "    </tr>\n",
       "    <tr>\n",
       "      <th>std</th>\n",
       "      <td>2886.89568</td>\n",
       "      <td>7.193619e+04</td>\n",
       "      <td>NaN</td>\n",
       "      <td>96.653299</td>\n",
       "      <td>NaN</td>\n",
       "      <td>NaN</td>\n",
       "      <td>10.487806</td>\n",
       "      <td>2.894723</td>\n",
       "      <td>62397.405202</td>\n",
       "      <td>0.581654</td>\n",
       "      <td>0.45584</td>\n",
       "      <td>0.499797</td>\n",
       "      <td>57510.492818</td>\n",
       "      <td>0.402769</td>\n",
       "    </tr>\n",
       "    <tr>\n",
       "      <th>min</th>\n",
       "      <td>1.00000</td>\n",
       "      <td>1.556570e+07</td>\n",
       "      <td>NaN</td>\n",
       "      <td>350.000000</td>\n",
       "      <td>NaN</td>\n",
       "      <td>NaN</td>\n",
       "      <td>18.000000</td>\n",
       "      <td>0.000000</td>\n",
       "      <td>0.000000</td>\n",
       "      <td>1.000000</td>\n",
       "      <td>0.00000</td>\n",
       "      <td>0.000000</td>\n",
       "      <td>11.580000</td>\n",
       "      <td>0.000000</td>\n",
       "    </tr>\n",
       "    <tr>\n",
       "      <th>25%</th>\n",
       "      <td>2500.75000</td>\n",
       "      <td>1.562853e+07</td>\n",
       "      <td>NaN</td>\n",
       "      <td>584.000000</td>\n",
       "      <td>NaN</td>\n",
       "      <td>NaN</td>\n",
       "      <td>32.000000</td>\n",
       "      <td>2.000000</td>\n",
       "      <td>0.000000</td>\n",
       "      <td>1.000000</td>\n",
       "      <td>0.00000</td>\n",
       "      <td>0.000000</td>\n",
       "      <td>51002.110000</td>\n",
       "      <td>0.000000</td>\n",
       "    </tr>\n",
       "    <tr>\n",
       "      <th>50%</th>\n",
       "      <td>5000.50000</td>\n",
       "      <td>1.569074e+07</td>\n",
       "      <td>NaN</td>\n",
       "      <td>652.000000</td>\n",
       "      <td>NaN</td>\n",
       "      <td>NaN</td>\n",
       "      <td>37.000000</td>\n",
       "      <td>5.000000</td>\n",
       "      <td>97198.540000</td>\n",
       "      <td>1.000000</td>\n",
       "      <td>1.00000</td>\n",
       "      <td>1.000000</td>\n",
       "      <td>100193.915000</td>\n",
       "      <td>0.000000</td>\n",
       "    </tr>\n",
       "    <tr>\n",
       "      <th>75%</th>\n",
       "      <td>7500.25000</td>\n",
       "      <td>1.575323e+07</td>\n",
       "      <td>NaN</td>\n",
       "      <td>718.000000</td>\n",
       "      <td>NaN</td>\n",
       "      <td>NaN</td>\n",
       "      <td>44.000000</td>\n",
       "      <td>7.000000</td>\n",
       "      <td>127644.240000</td>\n",
       "      <td>2.000000</td>\n",
       "      <td>1.00000</td>\n",
       "      <td>1.000000</td>\n",
       "      <td>149388.247500</td>\n",
       "      <td>0.000000</td>\n",
       "    </tr>\n",
       "    <tr>\n",
       "      <th>max</th>\n",
       "      <td>10000.00000</td>\n",
       "      <td>1.581569e+07</td>\n",
       "      <td>NaN</td>\n",
       "      <td>850.000000</td>\n",
       "      <td>NaN</td>\n",
       "      <td>NaN</td>\n",
       "      <td>92.000000</td>\n",
       "      <td>10.000000</td>\n",
       "      <td>250898.090000</td>\n",
       "      <td>4.000000</td>\n",
       "      <td>1.00000</td>\n",
       "      <td>1.000000</td>\n",
       "      <td>199992.480000</td>\n",
       "      <td>1.000000</td>\n",
       "    </tr>\n",
       "  </tbody>\n",
       "</table>\n",
       "</div>"
      ],
      "text/plain": [
       "          RowNumber    CustomerId Surname   CreditScore Geography Gender  \\\n",
       "count   10000.00000  1.000000e+04   10000  10000.000000     10000  10000   \n",
       "unique          NaN           NaN    2932           NaN         3      2   \n",
       "top             NaN           NaN   Smith           NaN    France   Male   \n",
       "freq            NaN           NaN      32           NaN      5014   5457   \n",
       "mean     5000.50000  1.569094e+07     NaN    650.528800       NaN    NaN   \n",
       "std      2886.89568  7.193619e+04     NaN     96.653299       NaN    NaN   \n",
       "min         1.00000  1.556570e+07     NaN    350.000000       NaN    NaN   \n",
       "25%      2500.75000  1.562853e+07     NaN    584.000000       NaN    NaN   \n",
       "50%      5000.50000  1.569074e+07     NaN    652.000000       NaN    NaN   \n",
       "75%      7500.25000  1.575323e+07     NaN    718.000000       NaN    NaN   \n",
       "max     10000.00000  1.581569e+07     NaN    850.000000       NaN    NaN   \n",
       "\n",
       "                 Age       Tenure        Balance  NumOfProducts    HasCrCard  \\\n",
       "count   10000.000000  9091.000000   10000.000000   10000.000000  10000.00000   \n",
       "unique           NaN          NaN            NaN            NaN          NaN   \n",
       "top              NaN          NaN            NaN            NaN          NaN   \n",
       "freq             NaN          NaN            NaN            NaN          NaN   \n",
       "mean       38.921800     4.997690   76485.889288       1.530200      0.70550   \n",
       "std        10.487806     2.894723   62397.405202       0.581654      0.45584   \n",
       "min        18.000000     0.000000       0.000000       1.000000      0.00000   \n",
       "25%        32.000000     2.000000       0.000000       1.000000      0.00000   \n",
       "50%        37.000000     5.000000   97198.540000       1.000000      1.00000   \n",
       "75%        44.000000     7.000000  127644.240000       2.000000      1.00000   \n",
       "max        92.000000    10.000000  250898.090000       4.000000      1.00000   \n",
       "\n",
       "        IsActiveMember  EstimatedSalary        Exited  \n",
       "count     10000.000000     10000.000000  10000.000000  \n",
       "unique             NaN              NaN           NaN  \n",
       "top                NaN              NaN           NaN  \n",
       "freq               NaN              NaN           NaN  \n",
       "mean          0.515100    100090.239881      0.203700  \n",
       "std           0.499797     57510.492818      0.402769  \n",
       "min           0.000000        11.580000      0.000000  \n",
       "25%           0.000000     51002.110000      0.000000  \n",
       "50%           1.000000    100193.915000      0.000000  \n",
       "75%           1.000000    149388.247500      0.000000  \n",
       "max           1.000000    199992.480000      1.000000  "
      ]
     },
     "execution_count": 5,
     "metadata": {},
     "output_type": "execute_result"
    }
   ],
   "source": [
    "#Integrated display of the columns\n",
    "df.describe(include='all')"
   ]
  },
  {
   "cell_type": "markdown",
   "id": "4ad5261b",
   "metadata": {},
   "source": [
    "- Target is binary, 1-exited and 0-customer. Customers mostly stayed and there is a class imbalance, to be dealt with."
   ]
  },
  {
   "cell_type": "markdown",
   "id": "105e5328",
   "metadata": {},
   "source": [
    "# Preprocessing"
   ]
  },
  {
   "cell_type": "markdown",
   "id": "d34f647d",
   "metadata": {},
   "source": [
    "## RowNumber, CustomerId and Surname"
   ]
  },
  {
   "cell_type": "code",
   "execution_count": 6,
   "id": "300e5bd6",
   "metadata": {
    "scrolled": true
   },
   "outputs": [],
   "source": [
    "#Dropping columns\n",
    "df = df.drop(['RowNumber', 'CustomerId', 'Surname'], axis=1)"
   ]
  },
  {
   "cell_type": "markdown",
   "id": "91554e98",
   "metadata": {},
   "source": [
    "## Tenure"
   ]
  },
  {
   "cell_type": "code",
   "execution_count": 7,
   "id": "096fb08a",
   "metadata": {},
   "outputs": [
    {
     "name": "stdout",
     "output_type": "stream",
     "text": [
      "9.09 \n",
      "\n",
      "1.0     952\n",
      "2.0     950\n",
      "8.0     933\n",
      "3.0     928\n",
      "5.0     927\n",
      "7.0     925\n",
      "4.0     885\n",
      "9.0     882\n",
      "6.0     881\n",
      "10.0    446\n",
      "0.0     382\n",
      "Name: Tenure, dtype: int64\n"
     ]
    }
   ],
   "source": [
    "#Taking a closer look at tenure values and missing values\n",
    "print(df['Tenure'].isnull().sum()/len(df)*100, '\\n')\n",
    "print(df['Tenure'].value_counts())"
   ]
  },
  {
   "cell_type": "markdown",
   "id": "4810fc35",
   "metadata": {},
   "source": [
    "Values are practically integers, we'll fill the 9.09% of missing values and then convert data type from float to integer."
   ]
  },
  {
   "cell_type": "code",
   "execution_count": 8,
   "id": "0247cfd5",
   "metadata": {},
   "outputs": [
    {
     "data": {
      "image/png": "[encoded data removed]",
      "text/plain": [
       "<Figure size 360x216 with 1 Axes>"
      ]
     },
     "metadata": {
      "needs_background": "light"
     },
     "output_type": "display_data"
    }
   ],
   "source": [
    "#Plotting tenure distribution\n",
    "df['Tenure'].hist(figsize=(5,3))\n",
    "plt.title('Tenure distribution');"
   ]
  },
  {
   "cell_type": "code",
   "execution_count": 9,
   "id": "2d299604",
   "metadata": {},
   "outputs": [
    {
     "data": {
      "text/plain": [
       "0"
      ]
     },
     "execution_count": 9,
     "metadata": {},
     "output_type": "execute_result"
    }
   ],
   "source": [
    "#Filling missing values with mean per NumOfProducts group\n",
    "df['Tenure'] = df.groupby('NumOfProducts')['Tenure'].apply(lambda x: x.fillna(x.mean()))\n",
    "df['Tenure'].isnull().sum()"
   ]
  },
  {
   "cell_type": "code",
   "execution_count": 10,
   "id": "8b9e5eab",
   "metadata": {},
   "outputs": [],
   "source": [
    "#Converting tenure values to integer data type\n",
    "df['Tenure'] = df['Tenure'].astype(int)"
   ]
  },
  {
   "cell_type": "markdown",
   "id": "11397cdd",
   "metadata": {},
   "source": [
    "## Categorical features encoding"
   ]
  },
  {
   "cell_type": "code",
   "execution_count": 11,
   "id": "2762777d",
   "metadata": {},
   "outputs": [
    {
     "data": {
      "text/plain": [
       "France     5014\n",
       "Germany    2509\n",
       "Spain      2477\n",
       "Name: Geography, dtype: int64"
      ]
     },
     "execution_count": 11,
     "metadata": {},
     "output_type": "execute_result"
    }
   ],
   "source": [
    "#Taking closer look at geography values\n",
    "df['Geography'].value_counts()"
   ]
  },
  {
   "cell_type": "markdown",
   "id": "f84f81a3",
   "metadata": {},
   "source": [
    "`Geography` has 3 countries, to be encoded using OHE."
   ]
  },
  {
   "cell_type": "code",
   "execution_count": 12,
   "id": "87b97eed",
   "metadata": {},
   "outputs": [
    {
     "data": {
      "text/plain": [
       "Male      5457\n",
       "Female    4543\n",
       "Name: Gender, dtype: int64"
      ]
     },
     "execution_count": 12,
     "metadata": {},
     "output_type": "execute_result"
    }
   ],
   "source": [
    "#Taking closer look at gender values\n",
    "df['Gender'].value_counts()"
   ]
  },
  {
   "cell_type": "markdown",
   "id": "93b75e3d",
   "metadata": {},
   "source": [
    "`Gender` is binary. OHE will be used here as well."
   ]
  },
  {
   "cell_type": "code",
   "execution_count": 13,
   "id": "36d94053",
   "metadata": {},
   "outputs": [
    {
     "data": {
      "text/html": [
       "<div>\n",
       "<style scoped>\n",
       "    .dataframe tbody tr th:only-of-type {\n",
       "        vertical-align: middle;\n",
       "    }\n",
       "\n",
       "    .dataframe tbody tr th {\n",
       "        vertical-align: top;\n",
       "    }\n",
       "\n",
       "    .dataframe thead th {\n",
       "        text-align: right;\n",
       "    }\n",
       "</style>\n",
       "<table border=\"1\" class=\"dataframe\">\n",
       "  <thead>\n",
       "    <tr style=\"text-align: right;\">\n",
       "      <th></th>\n",
       "      <th>CreditScore</th>\n",
       "      <th>Age</th>\n",
       "      <th>Tenure</th>\n",
       "      <th>Balance</th>\n",
       "      <th>NumOfProducts</th>\n",
       "      <th>HasCrCard</th>\n",
       "      <th>IsActiveMember</th>\n",
       "      <th>EstimatedSalary</th>\n",
       "      <th>Exited</th>\n",
       "      <th>Geography_Germany</th>\n",
       "      <th>Geography_Spain</th>\n",
       "      <th>Gender_Male</th>\n",
       "    </tr>\n",
       "  </thead>\n",
       "  <tbody>\n",
       "    <tr>\n",
       "      <th>0</th>\n",
       "      <td>619</td>\n",
       "      <td>42</td>\n",
       "      <td>2</td>\n",
       "      <td>0.00</td>\n",
       "      <td>1</td>\n",
       "      <td>1</td>\n",
       "      <td>1</td>\n",
       "      <td>101348.88</td>\n",
       "      <td>1</td>\n",
       "      <td>0</td>\n",
       "      <td>0</td>\n",
       "      <td>0</td>\n",
       "    </tr>\n",
       "    <tr>\n",
       "      <th>1</th>\n",
       "      <td>608</td>\n",
       "      <td>41</td>\n",
       "      <td>1</td>\n",
       "      <td>83807.86</td>\n",
       "      <td>1</td>\n",
       "      <td>0</td>\n",
       "      <td>1</td>\n",
       "      <td>112542.58</td>\n",
       "      <td>0</td>\n",
       "      <td>0</td>\n",
       "      <td>1</td>\n",
       "      <td>0</td>\n",
       "    </tr>\n",
       "    <tr>\n",
       "      <th>2</th>\n",
       "      <td>502</td>\n",
       "      <td>42</td>\n",
       "      <td>8</td>\n",
       "      <td>159660.80</td>\n",
       "      <td>3</td>\n",
       "      <td>1</td>\n",
       "      <td>0</td>\n",
       "      <td>113931.57</td>\n",
       "      <td>1</td>\n",
       "      <td>0</td>\n",
       "      <td>0</td>\n",
       "      <td>0</td>\n",
       "    </tr>\n",
       "    <tr>\n",
       "      <th>3</th>\n",
       "      <td>699</td>\n",
       "      <td>39</td>\n",
       "      <td>1</td>\n",
       "      <td>0.00</td>\n",
       "      <td>2</td>\n",
       "      <td>0</td>\n",
       "      <td>0</td>\n",
       "      <td>93826.63</td>\n",
       "      <td>0</td>\n",
       "      <td>0</td>\n",
       "      <td>0</td>\n",
       "      <td>0</td>\n",
       "    </tr>\n",
       "    <tr>\n",
       "      <th>4</th>\n",
       "      <td>850</td>\n",
       "      <td>43</td>\n",
       "      <td>2</td>\n",
       "      <td>125510.82</td>\n",
       "      <td>1</td>\n",
       "      <td>1</td>\n",
       "      <td>1</td>\n",
       "      <td>79084.10</td>\n",
       "      <td>0</td>\n",
       "      <td>0</td>\n",
       "      <td>1</td>\n",
       "      <td>0</td>\n",
       "    </tr>\n",
       "  </tbody>\n",
       "</table>\n",
       "</div>"
      ],
      "text/plain": [
       "   CreditScore  Age  Tenure    Balance  NumOfProducts  HasCrCard  \\\n",
       "0          619   42       2       0.00              1          1   \n",
       "1          608   41       1   83807.86              1          0   \n",
       "2          502   42       8  159660.80              3          1   \n",
       "3          699   39       1       0.00              2          0   \n",
       "4          850   43       2  125510.82              1          1   \n",
       "\n",
       "   IsActiveMember  EstimatedSalary  Exited  Geography_Germany  \\\n",
       "0               1        101348.88       1                  0   \n",
       "1               1        112542.58       0                  0   \n",
       "2               0        113931.57       1                  0   \n",
       "3               0         93826.63       0                  0   \n",
       "4               1         79084.10       0                  0   \n",
       "\n",
       "   Geography_Spain  Gender_Male  \n",
       "0                0            0  \n",
       "1                1            0  \n",
       "2                0            0  \n",
       "3                0            0  \n",
       "4                1            0  "
      ]
     },
     "execution_count": 13,
     "metadata": {},
     "output_type": "execute_result"
    }
   ],
   "source": [
    "#Dropping first column per encoded feature to avoid dummy trap\n",
    "df_OHE = pd.get_dummies(df, drop_first=True)\n",
    "df_OHE.head()"
   ]
  },
  {
   "cell_type": "markdown",
   "id": "7955d771",
   "metadata": {},
   "source": [
    "# EDA - class balance"
   ]
  },
  {
   "cell_type": "markdown",
   "id": "c0aeaf02",
   "metadata": {},
   "source": [
    "## CreditScore"
   ]
  },
  {
   "cell_type": "code",
   "execution_count": 14,
   "id": "5bbb89a3",
   "metadata": {},
   "outputs": [
    {
     "data": {
      "image/png": "[encoded data removed]",
      "text/plain": [
       "<Figure size 720x216 with 2 Axes>"
      ]
     },
     "metadata": {
      "needs_background": "light"
     },
     "output_type": "display_data"
    }
   ],
   "source": [
    "#Plotting credit score distribution\n",
    "plt.subplot(1, 2, 1)\n",
    "df['CreditScore'].hist(figsize=(10,3))\n",
    "plt.suptitle('Credit score distribution');\n",
    "plt.subplot(1, 2, 2)\n",
    "df.boxplot('CreditScore');"
   ]
  },
  {
   "cell_type": "markdown",
   "id": "82e2dc73",
   "metadata": {},
   "source": [
    "Distribution close to normal."
   ]
  },
  {
   "cell_type": "markdown",
   "id": "848eadb4",
   "metadata": {},
   "source": [
    "## Geography"
   ]
  },
  {
   "cell_type": "code",
   "execution_count": 15,
   "id": "d9e6d71d",
   "metadata": {},
   "outputs": [
    {
     "data": {
      "image/png": "[encoded data removed]",
      "text/plain": [
       "<Figure size 360x288 with 1 Axes>"
      ]
     },
     "metadata": {
      "needs_background": "light"
     },
     "output_type": "display_data"
    }
   ],
   "source": [
    "#Plotting geography distribution\n",
    "ax=df.groupby(['Geography', 'Exited']).size().unstack().plot.bar(figsize=(5,4))\n",
    "plt.title('Proportion of \"exited\" clients per country')\n",
    "for container in ax.containers:\n",
    "    ax.bar_label(container);"
   ]
  },
  {
   "cell_type": "markdown",
   "id": "0dd77666",
   "metadata": {},
   "source": [
    "Most customers are in France and also exit the least. Germany has the highest churn rate."
   ]
  },
  {
   "cell_type": "markdown",
   "id": "4d9ef8eb",
   "metadata": {},
   "source": [
    "## Gender"
   ]
  },
  {
   "cell_type": "code",
   "execution_count": 16,
   "id": "3182b3e8",
   "metadata": {},
   "outputs": [
    {
     "data": {
      "image/png": "[encoded data removed]",
      "text/plain": [
       "<Figure size 360x288 with 1 Axes>"
      ]
     },
     "metadata": {
      "needs_background": "light"
     },
     "output_type": "display_data"
    }
   ],
   "source": [
    "#Plotting gender distribution\n",
    "ax=df.groupby(['Gender', 'Exited']).size().unstack().plot.bar(figsize=(5,4))\n",
    "plt.title('Gender per target group distribution');\n",
    "for container in ax.containers:\n",
    "    ax.bar_label(container);"
   ]
  },
  {
   "cell_type": "markdown",
   "id": "99fb3fee",
   "metadata": {},
   "source": [
    "Most customers are male and female customers are more likely to leave."
   ]
  },
  {
   "cell_type": "markdown",
   "id": "90a7f7ad",
   "metadata": {},
   "source": [
    "## Age"
   ]
  },
  {
   "cell_type": "code",
   "execution_count": 17,
   "id": "a02fa5ff",
   "metadata": {},
   "outputs": [
    {
     "data": {
      "image/png": "[encoded data removed]",
      "text/plain": [
       "<Figure size 720x216 with 2 Axes>"
      ]
     },
     "metadata": {
      "needs_background": "light"
     },
     "output_type": "display_data"
    }
   ],
   "source": [
    "#Plotting age distribution\n",
    "plt.subplot(1, 2, 1)\n",
    "df.groupby('Exited')['Age'].hist(figsize=(10,3))\n",
    "plt.title('Age per target group distribution');\n",
    "plt.subplot(1, 2, 2)\n",
    "df.boxplot('Age')\n",
    "plt.title('Age distribution');"
   ]
  },
  {
   "cell_type": "markdown",
   "id": "e3f5b94a",
   "metadata": {},
   "source": [
    "Most customers are about 30-40 years old, distribution is positively skewed. Distribution of customers that have exited (orange) is closer to normal than that of loyal customers."
   ]
  },
  {
   "cell_type": "markdown",
   "id": "ae4362ae",
   "metadata": {},
   "source": [
    "## Balance"
   ]
  },
  {
   "cell_type": "code",
   "execution_count": 18,
   "id": "22f0184d",
   "metadata": {},
   "outputs": [
    {
     "data": {
      "image/png": "[encoded data removed]",
      "text/plain": [
       "<Figure size 720x216 with 2 Axes>"
      ]
     },
     "metadata": {
      "needs_background": "light"
     },
     "output_type": "display_data"
    }
   ],
   "source": [
    "#Plotting balance distribution\n",
    "plt.subplot(1, 2, 1)\n",
    "df['Balance'].hist(figsize=(10,3))\n",
    "plt.suptitle('Balance distribution');\n",
    "plt.subplot(1, 2, 2)\n",
    "df.boxplot('Balance');"
   ]
  },
  {
   "cell_type": "code",
   "execution_count": 19,
   "id": "cf2e817d",
   "metadata": {},
   "outputs": [
    {
     "data": {
      "text/html": [
       "<div>\n",
       "<style scoped>\n",
       "    .dataframe tbody tr th:only-of-type {\n",
       "        vertical-align: middle;\n",
       "    }\n",
       "\n",
       "    .dataframe tbody tr th {\n",
       "        vertical-align: top;\n",
       "    }\n",
       "\n",
       "    .dataframe thead th {\n",
       "        text-align: right;\n",
       "    }\n",
       "</style>\n",
       "<table border=\"1\" class=\"dataframe\">\n",
       "  <thead>\n",
       "    <tr style=\"text-align: right;\">\n",
       "      <th></th>\n",
       "      <th>CreditScore</th>\n",
       "      <th>Geography</th>\n",
       "      <th>Gender</th>\n",
       "      <th>Age</th>\n",
       "      <th>Tenure</th>\n",
       "      <th>Balance</th>\n",
       "      <th>NumOfProducts</th>\n",
       "      <th>HasCrCard</th>\n",
       "      <th>IsActiveMember</th>\n",
       "      <th>EstimatedSalary</th>\n",
       "      <th>Exited</th>\n",
       "    </tr>\n",
       "  </thead>\n",
       "  <tbody>\n",
       "    <tr>\n",
       "      <th>0</th>\n",
       "      <td>619</td>\n",
       "      <td>France</td>\n",
       "      <td>Female</td>\n",
       "      <td>42</td>\n",
       "      <td>2</td>\n",
       "      <td>0.0</td>\n",
       "      <td>1</td>\n",
       "      <td>1</td>\n",
       "      <td>1</td>\n",
       "      <td>101348.88</td>\n",
       "      <td>1</td>\n",
       "    </tr>\n",
       "    <tr>\n",
       "      <th>3</th>\n",
       "      <td>699</td>\n",
       "      <td>France</td>\n",
       "      <td>Female</td>\n",
       "      <td>39</td>\n",
       "      <td>1</td>\n",
       "      <td>0.0</td>\n",
       "      <td>2</td>\n",
       "      <td>0</td>\n",
       "      <td>0</td>\n",
       "      <td>93826.63</td>\n",
       "      <td>0</td>\n",
       "    </tr>\n",
       "    <tr>\n",
       "      <th>6</th>\n",
       "      <td>822</td>\n",
       "      <td>France</td>\n",
       "      <td>Male</td>\n",
       "      <td>50</td>\n",
       "      <td>7</td>\n",
       "      <td>0.0</td>\n",
       "      <td>2</td>\n",
       "      <td>1</td>\n",
       "      <td>1</td>\n",
       "      <td>10062.80</td>\n",
       "      <td>0</td>\n",
       "    </tr>\n",
       "    <tr>\n",
       "      <th>11</th>\n",
       "      <td>497</td>\n",
       "      <td>Spain</td>\n",
       "      <td>Male</td>\n",
       "      <td>24</td>\n",
       "      <td>3</td>\n",
       "      <td>0.0</td>\n",
       "      <td>2</td>\n",
       "      <td>1</td>\n",
       "      <td>0</td>\n",
       "      <td>76390.01</td>\n",
       "      <td>0</td>\n",
       "    </tr>\n",
       "    <tr>\n",
       "      <th>12</th>\n",
       "      <td>476</td>\n",
       "      <td>France</td>\n",
       "      <td>Female</td>\n",
       "      <td>34</td>\n",
       "      <td>10</td>\n",
       "      <td>0.0</td>\n",
       "      <td>2</td>\n",
       "      <td>1</td>\n",
       "      <td>0</td>\n",
       "      <td>26260.98</td>\n",
       "      <td>0</td>\n",
       "    </tr>\n",
       "  </tbody>\n",
       "</table>\n",
       "</div>"
      ],
      "text/plain": [
       "    CreditScore Geography  Gender  Age  Tenure  Balance  NumOfProducts  \\\n",
       "0           619    France  Female   42       2      0.0              1   \n",
       "3           699    France  Female   39       1      0.0              2   \n",
       "6           822    France    Male   50       7      0.0              2   \n",
       "11          497     Spain    Male   24       3      0.0              2   \n",
       "12          476    France  Female   34      10      0.0              2   \n",
       "\n",
       "    HasCrCard  IsActiveMember  EstimatedSalary  Exited  \n",
       "0           1               1        101348.88       1  \n",
       "3           0               0         93826.63       0  \n",
       "6           1               1         10062.80       0  \n",
       "11          1               0         76390.01       0  \n",
       "12          1               0         26260.98       0  "
      ]
     },
     "execution_count": 19,
     "metadata": {},
     "output_type": "execute_result"
    }
   ],
   "source": [
    "#Taking closer look at all values when balance=0\n",
    "df[df['Balance']==0].head()"
   ]
  },
  {
   "cell_type": "markdown",
   "id": "bb3180c9",
   "metadata": {},
   "source": [
    "Distribution shows high number of 0 values. This may be due to customers that have exited or simply customers with a balance of 0."
   ]
  },
  {
   "cell_type": "markdown",
   "id": "460e1a77",
   "metadata": {},
   "source": [
    "## EstimatedSalary"
   ]
  },
  {
   "cell_type": "code",
   "execution_count": 20,
   "id": "fe289db0",
   "metadata": {},
   "outputs": [
    {
     "data": {
      "image/png": "[encoded data removed]",
      "text/plain": [
       "<Figure size 720x216 with 2 Axes>"
      ]
     },
     "metadata": {
      "needs_background": "light"
     },
     "output_type": "display_data"
    }
   ],
   "source": [
    "#Plotting estimated salary distribution\n",
    "plt.subplot(1, 2, 1)\n",
    "df['EstimatedSalary'].hist(figsize=(10,3))\n",
    "plt.suptitle('Estimated salary distribution');\n",
    "plt.subplot(1, 2, 2)\n",
    "df.boxplot('EstimatedSalary');"
   ]
  },
  {
   "cell_type": "markdown",
   "id": "b7768a8e",
   "metadata": {},
   "source": [
    "No visible outliers."
   ]
  },
  {
   "cell_type": "markdown",
   "id": "da495ba2",
   "metadata": {},
   "source": [
    "## Exited - Target"
   ]
  },
  {
   "cell_type": "code",
   "execution_count": 21,
   "id": "3c0b9d06",
   "metadata": {},
   "outputs": [
    {
     "data": {
      "image/png": "[encoded data removed]",
      "text/plain": [
       "<Figure size 432x288 with 1 Axes>"
      ]
     },
     "metadata": {
      "needs_background": "light"
     },
     "output_type": "display_data"
    }
   ],
   "source": [
    "#Plotting exited distribution\n",
    "sns.countplot(df['Exited'])\n",
    "plt.title('Target distribution');"
   ]
  },
  {
   "cell_type": "markdown",
   "id": "6fea8341",
   "metadata": {},
   "source": [
    "Classes are imbalanced with over twice the existing customers (blue) compared to those who exited."
   ]
  },
  {
   "cell_type": "markdown",
   "id": "a33def51",
   "metadata": {},
   "source": [
    "# Training"
   ]
  },
  {
   "cell_type": "markdown",
   "id": "63470462",
   "metadata": {},
   "source": [
    "Now we'll calculate the baseline F1 score and run models without taking the imbalance into consideration."
   ]
  },
  {
   "cell_type": "markdown",
   "id": "1c0d0ca2",
   "metadata": {},
   "source": [
    "## Splitting data into train, validation and test sets"
   ]
  },
  {
   "cell_type": "code",
   "execution_count": 22,
   "id": "22e6a9b1",
   "metadata": {},
   "outputs": [],
   "source": [
    "#Splitting data into train and test sets (X- features, y-target)\n",
    "X = df_OHE.drop('Exited', axis=1)\n",
    "y = df_OHE['Exited']\n",
    "X_train_all, X_test, y_train_all, y_test = train_test_split(X, y, test_size = 0.2, stratify=y, random_state=12345)"
   ]
  },
  {
   "cell_type": "markdown",
   "id": "36cf3a68",
   "metadata": {},
   "source": [
    "Stratify parameter splits such that produced sample values' proportion is the same as provided values' proportion.\n",
    "\n",
    "For example, if y is binary categorical with 25% of zeros and 75% of ones, stratify=y will make random splits into 25% of 0's and 75% of 1's."
   ]
  },
  {
   "cell_type": "code",
   "execution_count": 23,
   "id": "49add1a9",
   "metadata": {},
   "outputs": [],
   "source": [
    "#Splitting train set into train and validation\n",
    "X_train, X_valid, y_train, y_valid = train_test_split(X_train_all, y_train_all, test_size = 0.25, random_state=12345)"
   ]
  },
  {
   "cell_type": "code",
   "execution_count": 24,
   "id": "fe8fb384",
   "metadata": {},
   "outputs": [],
   "source": [
    "#Naming sets\n",
    "X_test.name = 'X_test'\n",
    "X_valid.name = 'X_valid'\n",
    "y_train.name = 'y_train'\n",
    "y_valid.name = 'y_valid'\n",
    "y_test.name = 'y_test'\n",
    "X_train.name = 'X_train'"
   ]
  },
  {
   "cell_type": "code",
   "execution_count": 25,
   "id": "396d82f0",
   "metadata": {
    "scrolled": true
   },
   "outputs": [
    {
     "name": "stdout",
     "output_type": "stream",
     "text": [
      "Size of X_train : 0.6\n",
      "Size of y_train : 0.6\n",
      "Size of X_valid : 0.2\n",
      "Size of y_valid : 0.2\n",
      "Size of X_test : 0.2\n",
      "Size of y_test : 0.2\n"
     ]
    }
   ],
   "source": [
    "#Checking set size\n",
    "for part in [X_train, y_train, X_valid, y_valid, X_test, y_test]:\n",
    "    print(\"Size of\", part.name, \":\", part.shape[0]/df.shape[0])"
   ]
  },
  {
   "cell_type": "markdown",
   "id": "ee1643d2",
   "metadata": {},
   "source": [
    "Source data successfully split into sets."
   ]
  },
  {
   "cell_type": "markdown",
   "id": "5ad1f115",
   "metadata": {},
   "source": [
    "## Standard Scaling"
   ]
  },
  {
   "cell_type": "code",
   "execution_count": 26,
   "id": "8aa935a6",
   "metadata": {},
   "outputs": [],
   "source": [
    "#Standard Scaling\n",
    "sc = ss()\n",
    "X_train_scaled = sc.fit_transform(X_train)\n",
    "X_valid_scaled = sc.transform(X_valid)\n",
    "X_test_scaled = sc.transform(X_test)\n",
    "\n",
    "X_train = pd.DataFrame(data=X_train_scaled,\n",
    "                        index=X_train.index,    \n",
    "                        columns=X_train.columns) \n",
    "\n",
    "X_valid = pd.DataFrame(data=X_valid_scaled,    \n",
    "                        index=X_valid.index,    \n",
    "                        columns=X_valid.columns)  \n",
    "\n",
    "X_test = pd.DataFrame(data=X_test_scaled,   \n",
    "                        index=X_test.index,    \n",
    "                        columns=X_test.columns) "
   ]
  },
  {
   "cell_type": "markdown",
   "id": "38a2faba",
   "metadata": {},
   "source": [
    "StandardScaler transforms data so distribution has mean value 0 and std 1."
   ]
  },
  {
   "cell_type": "markdown",
   "id": "3a7111f1",
   "metadata": {},
   "source": [
    "## Models with class imbalance"
   ]
  },
  {
   "cell_type": "markdown",
   "id": "83f9771a",
   "metadata": {},
   "source": [
    "### Preliminary F1 score (baseline)"
   ]
  },
  {
   "cell_type": "code",
   "execution_count": 27,
   "id": "236cbad6",
   "metadata": {},
   "outputs": [
    {
     "name": "stdout",
     "output_type": "stream",
     "text": [
      "Baseline F1 score: 34.98\n"
     ]
    }
   ],
   "source": [
    "#Dummy classification to check baseline\n",
    "dummy = DummyClassifier(strategy='constant', constant=1, random_state=12345)\n",
    "dummy.fit(X_train, y_train)\n",
    "y_pred = dummy.predict(X_valid)\n",
    "f1_dummy = round(f1_score(y_valid,y_pred) * 100, 2)\n",
    "print(\"Baseline F1 score:\", f1_dummy)"
   ]
  },
  {
   "cell_type": "markdown",
   "id": "a1828046",
   "metadata": {},
   "source": [
    "The model should correctly predict the minority class - whether a customer exited, therefore we chose the strategy `constant` for the dummy classifier.\n",
    "\n",
    "To pass the sanity check our model must result in a score of 34% F1 or above."
   ]
  },
  {
   "cell_type": "markdown",
   "id": "e3e53584",
   "metadata": {},
   "source": [
    "### Decision Tree Classifier"
   ]
  },
  {
   "cell_type": "code",
   "execution_count": 28,
   "id": "824b9c36",
   "metadata": {},
   "outputs": [
    {
     "data": {
      "text/plain": [
       "49.19"
      ]
     },
     "execution_count": 28,
     "metadata": {},
     "output_type": "execute_result"
    }
   ],
   "source": [
    "#Checking default F1\n",
    "dtc = DecisionTreeClassifier(random_state=12345)\n",
    "dtc.fit(X_train, y_train)\n",
    "y_pred = dtc.predict(X_valid)\n",
    "\n",
    "f1_dtc_imbalanced = round(f1_score(y_valid,y_pred) * 100, 2)\n",
    "f1_dtc_imbalanced"
   ]
  },
  {
   "cell_type": "markdown",
   "id": "bd810197",
   "metadata": {},
   "source": [
    "### Random Forest Classifier"
   ]
  },
  {
   "cell_type": "code",
   "execution_count": 29,
   "id": "48d96609",
   "metadata": {},
   "outputs": [
    {
     "data": {
      "text/plain": [
       "55.94"
      ]
     },
     "execution_count": 29,
     "metadata": {},
     "output_type": "execute_result"
    }
   ],
   "source": [
    "#Checking default F1\n",
    "rfc = RandomForestClassifier(random_state=12345)\n",
    "rfc.fit(X_train, y_train)\n",
    "y_pred = rfc.predict(X_valid)\n",
    "\n",
    "f1_rfc_imbalanced = round(f1_score(y_valid,y_pred) * 100, 2)\n",
    "f1_rfc_imbalanced"
   ]
  },
  {
   "cell_type": "markdown",
   "id": "bf23a157",
   "metadata": {},
   "source": [
    "### Logistic Regression"
   ]
  },
  {
   "cell_type": "code",
   "execution_count": 30,
   "id": "1c0e9286",
   "metadata": {},
   "outputs": [
    {
     "data": {
      "text/plain": [
       "31.9"
      ]
     },
     "execution_count": 30,
     "metadata": {},
     "output_type": "execute_result"
    }
   ],
   "source": [
    "#Checking default F1\n",
    "lr = LogisticRegression(random_state=12345)\n",
    "lr.fit(X_train, y_train)     \n",
    "y_pred = lr.predict(X_valid)\n",
    "\n",
    "f1_lr_imbalanced = round(f1_score(y_valid,y_pred) * 100, 2)\n",
    "f1_lr_imbalanced"
   ]
  },
  {
   "cell_type": "markdown",
   "id": "f1ee2f09",
   "metadata": {},
   "source": [
    "All 3 models resulted in a score lower than the 59% target. Default Logistic Regression was lower than the dummy classifier. Now we'll tune and run the models again after we've dealt with the imbalance using:\n",
    "- Class Weight Adjustment.\n",
    "- Upsampling.\n",
    "- Downsampling."
   ]
  },
  {
   "cell_type": "markdown",
   "id": "9a9cc905",
   "metadata": {},
   "source": [
    "## Class imbalance correction and hyperparameter tuning"
   ]
  },
  {
   "cell_type": "markdown",
   "id": "f391523a",
   "metadata": {},
   "source": [
    "### Method 1: Class Weight Adjustment"
   ]
  },
  {
   "cell_type": "markdown",
   "id": "54792aee",
   "metadata": {},
   "source": [
    "#### Decision Tree Classifier"
   ]
  },
  {
   "cell_type": "code",
   "execution_count": 31,
   "id": "910abc3f",
   "metadata": {},
   "outputs": [
    {
     "data": {
      "text/html": [
       "<div>\n",
       "<style scoped>\n",
       "    .dataframe tbody tr th:only-of-type {\n",
       "        vertical-align: middle;\n",
       "    }\n",
       "\n",
       "    .dataframe tbody tr th {\n",
       "        vertical-align: top;\n",
       "    }\n",
       "\n",
       "    .dataframe thead th {\n",
       "        text-align: right;\n",
       "    }\n",
       "</style>\n",
       "<table border=\"1\" class=\"dataframe\">\n",
       "  <thead>\n",
       "    <tr style=\"text-align: right;\">\n",
       "      <th></th>\n",
       "      <th>max_depth</th>\n",
       "      <th>f1_dtc_balanced</th>\n",
       "    </tr>\n",
       "  </thead>\n",
       "  <tbody>\n",
       "    <tr>\n",
       "      <th>5</th>\n",
       "      <td>6</td>\n",
       "      <td>59.09</td>\n",
       "    </tr>\n",
       "  </tbody>\n",
       "</table>\n",
       "</div>"
      ],
      "text/plain": [
       "   max_depth  f1_dtc_balanced\n",
       "5          6            59.09"
      ]
     },
     "execution_count": 31,
     "metadata": {},
     "output_type": "execute_result"
    }
   ],
   "source": [
    "#Running loop to find best hyperparameters\n",
    "d = []\n",
    "for depth in range(1,10):\n",
    "    dtc = DecisionTreeClassifier(class_weight='balanced', random_state=12345, max_depth=depth)\n",
    "    dtc.fit(X_train, y_train)\n",
    "    y_pred = dtc.predict(X_valid)\n",
    "    f1_dtc_balanced = round(f1_score(y_valid,y_pred) * 100, 2)\n",
    "    d.append({'max_depth': depth, 'f1_dtc_balanced': f1_dtc_balanced})\n",
    "\n",
    "best_param = pd.DataFrame(d).nlargest(1, ['f1_dtc_balanced'], keep='first')\n",
    "f1_dtc_balanced = best_param['f1_dtc_balanced'].values\n",
    "best_param"
   ]
  },
  {
   "cell_type": "markdown",
   "id": "3018d3d4",
   "metadata": {},
   "source": [
    "#### Random Forest Classifier"
   ]
  },
  {
   "cell_type": "code",
   "execution_count": 32,
   "id": "bd210e3d",
   "metadata": {},
   "outputs": [
    {
     "data": {
      "text/html": [
       "<div>\n",
       "<style scoped>\n",
       "    .dataframe tbody tr th:only-of-type {\n",
       "        vertical-align: middle;\n",
       "    }\n",
       "\n",
       "    .dataframe tbody tr th {\n",
       "        vertical-align: top;\n",
       "    }\n",
       "\n",
       "    .dataframe thead th {\n",
       "        text-align: right;\n",
       "    }\n",
       "</style>\n",
       "<table border=\"1\" class=\"dataframe\">\n",
       "  <thead>\n",
       "    <tr style=\"text-align: right;\">\n",
       "      <th></th>\n",
       "      <th>n_estimators</th>\n",
       "      <th>max_depth</th>\n",
       "      <th>f1_rfc_balanced</th>\n",
       "    </tr>\n",
       "  </thead>\n",
       "  <tbody>\n",
       "    <tr>\n",
       "      <th>35</th>\n",
       "      <td>28</td>\n",
       "      <td>9</td>\n",
       "      <td>63.09</td>\n",
       "    </tr>\n",
       "  </tbody>\n",
       "</table>\n",
       "</div>"
      ],
      "text/plain": [
       "    n_estimators  max_depth  f1_rfc_balanced\n",
       "35            28          9            63.09"
      ]
     },
     "execution_count": 32,
     "metadata": {},
     "output_type": "execute_result"
    }
   ],
   "source": [
    "#Running loop to find best hyperparameters\n",
    "d = []\n",
    "for estim in range(1,51,9):\n",
    "    for depth in range(1,10):\n",
    "        rfc = RandomForestClassifier(random_state=12345, n_estimators=estim, max_depth=depth, class_weight='balanced')\n",
    "        rfc.fit(X_train, y_train)\n",
    "        y_pred = rfc.predict(X_valid)\n",
    "        f1_rfc_balanced = round(f1_score(y_valid,y_pred) * 100, 2)\n",
    "        d.append({'n_estimators': estim, 'max_depth': depth, 'f1_rfc_balanced': f1_rfc_balanced})\n",
    "\n",
    "best_param = pd.DataFrame(d).nlargest(1, ['f1_rfc_balanced'], keep='first')\n",
    "f1_rfc_balanced = best_param['f1_rfc_balanced'].values\n",
    "best_param"
   ]
  },
  {
   "cell_type": "markdown",
   "id": "a9927450",
   "metadata": {},
   "source": [
    "#### Logistic Regression"
   ]
  },
  {
   "cell_type": "code",
   "execution_count": 33,
   "id": "de683244",
   "metadata": {},
   "outputs": [
    {
     "data": {
      "text/html": [
       "<div>\n",
       "<style scoped>\n",
       "    .dataframe tbody tr th:only-of-type {\n",
       "        vertical-align: middle;\n",
       "    }\n",
       "\n",
       "    .dataframe tbody tr th {\n",
       "        vertical-align: top;\n",
       "    }\n",
       "\n",
       "    .dataframe thead th {\n",
       "        text-align: right;\n",
       "    }\n",
       "</style>\n",
       "<table border=\"1\" class=\"dataframe\">\n",
       "  <thead>\n",
       "    <tr style=\"text-align: right;\">\n",
       "      <th></th>\n",
       "      <th>penalty</th>\n",
       "      <th>C</th>\n",
       "      <th>f1_lr_balanced</th>\n",
       "    </tr>\n",
       "  </thead>\n",
       "  <tbody>\n",
       "    <tr>\n",
       "      <th>99</th>\n",
       "      <td>l2</td>\n",
       "      <td>0.01</td>\n",
       "      <td>50.59</td>\n",
       "    </tr>\n",
       "  </tbody>\n",
       "</table>\n",
       "</div>"
      ],
      "text/plain": [
       "   penalty     C  f1_lr_balanced\n",
       "99      l2  0.01           50.59"
      ]
     },
     "execution_count": 33,
     "metadata": {},
     "output_type": "execute_result"
    }
   ],
   "source": [
    "#Running loop to find best hyperparameters\n",
    "d = []\n",
    "for penalty in ['l1', 'l2']:\n",
    "    for C in np.arange(0.01,1,0.01):\n",
    "        lr = LogisticRegression(solver=\"liblinear\", penalty=penalty, class_weight='balanced', C=C, random_state=12345)\n",
    "        lr.fit(X_train, y_train)     \n",
    "        y_pred = lr.predict(X_valid)\n",
    "        f1_lr_balanced = round(f1_score(y_valid,y_pred) * 100, 2)\n",
    "        d.append({'penalty': penalty, 'C': C, 'f1_lr_balanced': f1_lr_balanced})\n",
    "        \n",
    "best_param = pd.DataFrame(d).nlargest(1, ['f1_lr_balanced'], keep='first')\n",
    "f1_lr_balanced = best_param['f1_lr_balanced'].values\n",
    "best_param"
   ]
  },
  {
   "cell_type": "markdown",
   "id": "a98e85a8",
   "metadata": {},
   "source": [
    "### Method 2: Upsampling"
   ]
  },
  {
   "cell_type": "code",
   "execution_count": 34,
   "id": "58a256d9",
   "metadata": {},
   "outputs": [],
   "source": [
    "#Defining upsample function\n",
    "def upsample(features, target, repeat):\n",
    "    features_zeros = features[target == 0]\n",
    "    features_ones = features[target == 1]\n",
    "    target_zeros = target[target == 0]\n",
    "    target_ones = target[target == 1]\n",
    "\n",
    "    features_upsampled = pd.concat([features_zeros] + [features_ones] * repeat)\n",
    "    target_upsampled = pd.concat([target_zeros] + [target_ones] * repeat)\n",
    "    \n",
    "    features_upsampled, target_upsampled = shuffle(\n",
    "        features_upsampled, target_upsampled, random_state=12345)\n",
    "    \n",
    "    return features_upsampled, target_upsampled\n",
    "\n",
    "X_train_upsampled, y_train_upsampled = upsample(X_train, y_train, 10)"
   ]
  },
  {
   "cell_type": "markdown",
   "id": "77235e9c",
   "metadata": {},
   "source": [
    "#### Decision Tree Classifier"
   ]
  },
  {
   "cell_type": "code",
   "execution_count": 35,
   "id": "8d23a2ae",
   "metadata": {},
   "outputs": [
    {
     "data": {
      "text/html": [
       "<div>\n",
       "<style scoped>\n",
       "    .dataframe tbody tr th:only-of-type {\n",
       "        vertical-align: middle;\n",
       "    }\n",
       "\n",
       "    .dataframe tbody tr th {\n",
       "        vertical-align: top;\n",
       "    }\n",
       "\n",
       "    .dataframe thead th {\n",
       "        text-align: right;\n",
       "    }\n",
       "</style>\n",
       "<table border=\"1\" class=\"dataframe\">\n",
       "  <thead>\n",
       "    <tr style=\"text-align: right;\">\n",
       "      <th></th>\n",
       "      <th>max_depth</th>\n",
       "      <th>f1_dtc_upsampled</th>\n",
       "    </tr>\n",
       "  </thead>\n",
       "  <tbody>\n",
       "    <tr>\n",
       "      <th>5</th>\n",
       "      <td>6</td>\n",
       "      <td>54.14</td>\n",
       "    </tr>\n",
       "  </tbody>\n",
       "</table>\n",
       "</div>"
      ],
      "text/plain": [
       "   max_depth  f1_dtc_upsampled\n",
       "5          6             54.14"
      ]
     },
     "execution_count": 35,
     "metadata": {},
     "output_type": "execute_result"
    }
   ],
   "source": [
    "#Running loop to find best hyperparameters\n",
    "d = []\n",
    "for depth in range(1,10):\n",
    "    dtc = DecisionTreeClassifier(random_state=12345, max_depth=depth)\n",
    "    dtc.fit(X_train_upsampled, y_train_upsampled)\n",
    "    y_pred = dtc.predict(X_valid)\n",
    "    f1_dtc_upsampled = round(f1_score(y_valid,y_pred) * 100, 2)\n",
    "    d.append({'max_depth': depth, 'f1_dtc_upsampled': f1_dtc_upsampled})\n",
    "\n",
    "best_param = pd.DataFrame(d).nlargest(1, ['f1_dtc_upsampled'], keep='first')\n",
    "f1_dtc_upsampled = best_param['f1_dtc_upsampled'].values\n",
    "best_param"
   ]
  },
  {
   "cell_type": "markdown",
   "id": "19999b41",
   "metadata": {},
   "source": [
    "#### Random Forest Classifier"
   ]
  },
  {
   "cell_type": "code",
   "execution_count": 36,
   "id": "79d1bcc6",
   "metadata": {},
   "outputs": [
    {
     "data": {
      "text/html": [
       "<div>\n",
       "<style scoped>\n",
       "    .dataframe tbody tr th:only-of-type {\n",
       "        vertical-align: middle;\n",
       "    }\n",
       "\n",
       "    .dataframe tbody tr th {\n",
       "        vertical-align: top;\n",
       "    }\n",
       "\n",
       "    .dataframe thead th {\n",
       "        text-align: right;\n",
       "    }\n",
       "</style>\n",
       "<table border=\"1\" class=\"dataframe\">\n",
       "  <thead>\n",
       "    <tr style=\"text-align: right;\">\n",
       "      <th></th>\n",
       "      <th>n_estimators</th>\n",
       "      <th>max_depth</th>\n",
       "      <th>f1_rfc_upsampled</th>\n",
       "    </tr>\n",
       "  </thead>\n",
       "  <tbody>\n",
       "    <tr>\n",
       "      <th>44</th>\n",
       "      <td>37</td>\n",
       "      <td>9</td>\n",
       "      <td>56.65</td>\n",
       "    </tr>\n",
       "  </tbody>\n",
       "</table>\n",
       "</div>"
      ],
      "text/plain": [
       "    n_estimators  max_depth  f1_rfc_upsampled\n",
       "44            37          9             56.65"
      ]
     },
     "execution_count": 36,
     "metadata": {},
     "output_type": "execute_result"
    }
   ],
   "source": [
    "#Running loop to find best hyperparameters\n",
    "d = []\n",
    "for estim in range(1,51,9):\n",
    "    for depth in range(1,10):\n",
    "        rfc = RandomForestClassifier(random_state=12345, n_estimators=estim, max_depth=depth)\n",
    "        rfc.fit(X_train_upsampled, y_train_upsampled)\n",
    "        y_pred = rfc.predict(X_valid)\n",
    "        f1_rfc_upsampled = round(f1_score(y_valid,y_pred) * 100, 2)\n",
    "        d.append({'n_estimators': estim, 'max_depth': depth, 'f1_rfc_upsampled': f1_rfc_upsampled})\n",
    "\n",
    "best_param = pd.DataFrame(d).nlargest(1, ['f1_rfc_upsampled'], keep='first')\n",
    "f1_rfc_upsampled = best_param['f1_rfc_upsampled'].values\n",
    "best_param"
   ]
  },
  {
   "cell_type": "markdown",
   "id": "e49c082d",
   "metadata": {},
   "source": [
    "#### Logistic Regression"
   ]
  },
  {
   "cell_type": "code",
   "execution_count": 37,
   "id": "9859e225",
   "metadata": {},
   "outputs": [
    {
     "data": {
      "text/html": [
       "<div>\n",
       "<style scoped>\n",
       "    .dataframe tbody tr th:only-of-type {\n",
       "        vertical-align: middle;\n",
       "    }\n",
       "\n",
       "    .dataframe tbody tr th {\n",
       "        vertical-align: top;\n",
       "    }\n",
       "\n",
       "    .dataframe thead th {\n",
       "        text-align: right;\n",
       "    }\n",
       "</style>\n",
       "<table border=\"1\" class=\"dataframe\">\n",
       "  <thead>\n",
       "    <tr style=\"text-align: right;\">\n",
       "      <th></th>\n",
       "      <th>penalty</th>\n",
       "      <th>C</th>\n",
       "      <th>f1_lr_upsampled</th>\n",
       "    </tr>\n",
       "  </thead>\n",
       "  <tbody>\n",
       "    <tr>\n",
       "      <th>91</th>\n",
       "      <td>l1</td>\n",
       "      <td>0.92</td>\n",
       "      <td>42.4</td>\n",
       "    </tr>\n",
       "  </tbody>\n",
       "</table>\n",
       "</div>"
      ],
      "text/plain": [
       "   penalty     C  f1_lr_upsampled\n",
       "91      l1  0.92             42.4"
      ]
     },
     "execution_count": 37,
     "metadata": {},
     "output_type": "execute_result"
    }
   ],
   "source": [
    "#Running loop to find best hyperparameters\n",
    "d = []\n",
    "for penalty in ['l1', 'l2']:\n",
    "    for C in np.arange(0.01,1,0.01):\n",
    "        lr = LogisticRegression(solver=\"liblinear\", penalty=penalty, C=C, random_state=12345)\n",
    "        lr.fit(X_train_upsampled, y_train_upsampled)     \n",
    "        y_pred = lr.predict(X_valid)\n",
    "        f1_lr_upsampled = round(f1_score(y_valid,y_pred) * 100, 2)\n",
    "        d.append({'penalty': penalty, 'C': C, 'f1_lr_upsampled': f1_lr_upsampled})\n",
    "        \n",
    "best_param = pd.DataFrame(d).nlargest(1, ['f1_lr_upsampled'], keep='first')\n",
    "f1_lr_upsampled = best_param['f1_lr_upsampled'].values\n",
    "best_param"
   ]
  },
  {
   "cell_type": "markdown",
   "id": "684fa24d",
   "metadata": {},
   "source": [
    "### Method 3: Downsampling "
   ]
  },
  {
   "cell_type": "code",
   "execution_count": 38,
   "id": "1dffdb35",
   "metadata": {},
   "outputs": [],
   "source": [
    "#Defining downsample function\n",
    "def downsample(features, target, fraction):\n",
    "    features_zeros = features[target == 0]\n",
    "    features_ones = features[target == 1]\n",
    "    target_zeros = target[target == 0]\n",
    "    target_ones = target[target == 1]\n",
    "\n",
    "    features_downsampled = pd.concat(\n",
    "        [features_zeros.sample(frac=fraction, random_state=12345)] + [features_ones])\n",
    "    target_downsampled = pd.concat(\n",
    "        [target_zeros.sample(frac=fraction, random_state=12345)] + [target_ones])\n",
    "    \n",
    "    features_downsampled, target_downsampled = shuffle(\n",
    "        features_downsampled, target_downsampled, random_state=12345)\n",
    "    \n",
    "    return features_downsampled, target_downsampled\n",
    "\n",
    "X_train_downsampled, y_train_downsampled = downsample(X_train, y_train, 0.1)"
   ]
  },
  {
   "cell_type": "markdown",
   "id": "fb89ad11",
   "metadata": {},
   "source": [
    "#### Decision Tree Classifier"
   ]
  },
  {
   "cell_type": "code",
   "execution_count": 39,
   "id": "b72efdf1",
   "metadata": {},
   "outputs": [
    {
     "data": {
      "text/html": [
       "<div>\n",
       "<style scoped>\n",
       "    .dataframe tbody tr th:only-of-type {\n",
       "        vertical-align: middle;\n",
       "    }\n",
       "\n",
       "    .dataframe tbody tr th {\n",
       "        vertical-align: top;\n",
       "    }\n",
       "\n",
       "    .dataframe thead th {\n",
       "        text-align: right;\n",
       "    }\n",
       "</style>\n",
       "<table border=\"1\" class=\"dataframe\">\n",
       "  <thead>\n",
       "    <tr style=\"text-align: right;\">\n",
       "      <th></th>\n",
       "      <th>max_depth</th>\n",
       "      <th>f1_dtc_downsampled</th>\n",
       "    </tr>\n",
       "  </thead>\n",
       "  <tbody>\n",
       "    <tr>\n",
       "      <th>4</th>\n",
       "      <td>5</td>\n",
       "      <td>55.05</td>\n",
       "    </tr>\n",
       "  </tbody>\n",
       "</table>\n",
       "</div>"
      ],
      "text/plain": [
       "   max_depth  f1_dtc_downsampled\n",
       "4          5               55.05"
      ]
     },
     "execution_count": 39,
     "metadata": {},
     "output_type": "execute_result"
    }
   ],
   "source": [
    "#Running loop to find best hyperparameters\n",
    "d = []\n",
    "for depth in range(1,10):\n",
    "    dtc = DecisionTreeClassifier(random_state=12345, max_depth=depth)\n",
    "    dtc.fit(X_train_downsampled, y_train_downsampled)\n",
    "    y_pred = dtc.predict(X_valid)\n",
    "    f1_dtc_downsampled = round(f1_score(y_valid,y_pred) * 100, 2)\n",
    "    d.append({'max_depth': depth, 'f1_dtc_downsampled': f1_dtc_downsampled})\n",
    "\n",
    "best_param = pd.DataFrame(d).nlargest(1, ['f1_dtc_downsampled'], keep='first')\n",
    "f1_dtc_downsampled = best_param['f1_dtc_downsampled'].values\n",
    "best_param"
   ]
  },
  {
   "cell_type": "markdown",
   "id": "a0047c23",
   "metadata": {},
   "source": [
    "#### Random Forest Classifier"
   ]
  },
  {
   "cell_type": "code",
   "execution_count": 40,
   "id": "27284f0c",
   "metadata": {},
   "outputs": [
    {
     "data": {
      "text/html": [
       "<div>\n",
       "<style scoped>\n",
       "    .dataframe tbody tr th:only-of-type {\n",
       "        vertical-align: middle;\n",
       "    }\n",
       "\n",
       "    .dataframe tbody tr th {\n",
       "        vertical-align: top;\n",
       "    }\n",
       "\n",
       "    .dataframe thead th {\n",
       "        text-align: right;\n",
       "    }\n",
       "</style>\n",
       "<table border=\"1\" class=\"dataframe\">\n",
       "  <thead>\n",
       "    <tr style=\"text-align: right;\">\n",
       "      <th></th>\n",
       "      <th>n_estimators</th>\n",
       "      <th>max_depth</th>\n",
       "      <th>f1_rfc_downsampled</th>\n",
       "    </tr>\n",
       "  </thead>\n",
       "  <tbody>\n",
       "    <tr>\n",
       "      <th>8</th>\n",
       "      <td>1</td>\n",
       "      <td>9</td>\n",
       "      <td>49.42</td>\n",
       "    </tr>\n",
       "  </tbody>\n",
       "</table>\n",
       "</div>"
      ],
      "text/plain": [
       "   n_estimators  max_depth  f1_rfc_downsampled\n",
       "8             1          9               49.42"
      ]
     },
     "execution_count": 40,
     "metadata": {},
     "output_type": "execute_result"
    }
   ],
   "source": [
    "#Running loop to find best hyperparameters\n",
    "d = []\n",
    "for estim in range(1,51,9):\n",
    "    for depth in range(1,10):\n",
    "        rfc = RandomForestClassifier(random_state=12345, n_estimators=estim, max_depth=depth)\n",
    "        rfc.fit(X_train_downsampled, y_train_downsampled)\n",
    "        y_pred = rfc.predict(X_valid)\n",
    "        f1_rfc_downsampled = round(f1_score(y_valid,y_pred) * 100, 2)\n",
    "        d.append({'n_estimators': estim, 'max_depth': depth, 'f1_rfc_downsampled': f1_rfc_downsampled})\n",
    "\n",
    "best_param = pd.DataFrame(d).nlargest(1, ['f1_rfc_downsampled'], keep='first')\n",
    "f1_rfc_downsampled = best_param['f1_rfc_downsampled'].values\n",
    "best_param"
   ]
  },
  {
   "cell_type": "markdown",
   "id": "0fdc5e47",
   "metadata": {},
   "source": [
    "#### Logistic Regression"
   ]
  },
  {
   "cell_type": "code",
   "execution_count": 41,
   "id": "fd5498ba",
   "metadata": {},
   "outputs": [
    {
     "data": {
      "text/html": [
       "<div>\n",
       "<style scoped>\n",
       "    .dataframe tbody tr th:only-of-type {\n",
       "        vertical-align: middle;\n",
       "    }\n",
       "\n",
       "    .dataframe tbody tr th {\n",
       "        vertical-align: top;\n",
       "    }\n",
       "\n",
       "    .dataframe thead th {\n",
       "        text-align: right;\n",
       "    }\n",
       "</style>\n",
       "<table border=\"1\" class=\"dataframe\">\n",
       "  <thead>\n",
       "    <tr style=\"text-align: right;\">\n",
       "      <th></th>\n",
       "      <th>penalty</th>\n",
       "      <th>C</th>\n",
       "      <th>f1_lr_downsampled</th>\n",
       "    </tr>\n",
       "  </thead>\n",
       "  <tbody>\n",
       "    <tr>\n",
       "      <th>127</th>\n",
       "      <td>l2</td>\n",
       "      <td>0.29</td>\n",
       "      <td>42.41</td>\n",
       "    </tr>\n",
       "  </tbody>\n",
       "</table>\n",
       "</div>"
      ],
      "text/plain": [
       "    penalty     C  f1_lr_downsampled\n",
       "127      l2  0.29              42.41"
      ]
     },
     "execution_count": 41,
     "metadata": {},
     "output_type": "execute_result"
    }
   ],
   "source": [
    "#Running loop to find best hyperparameters\n",
    "d = []\n",
    "for penalty in ['l1', 'l2']:\n",
    "    for C in np.arange(0.01,1,0.01):\n",
    "        lr = LogisticRegression(solver=\"liblinear\", penalty=penalty, C=C, random_state=12345)\n",
    "        lr.fit(X_train_downsampled, y_train_downsampled)     \n",
    "        y_pred = lr.predict(X_valid)\n",
    "        f1_lr_downsampled = round(f1_score(y_valid,y_pred) * 100, 2)\n",
    "        d.append({'penalty': penalty, 'C': C, 'f1_lr_downsampled': f1_lr_downsampled})\n",
    "        \n",
    "best_param = pd.DataFrame(d).nlargest(1, ['f1_lr_downsampled'], keep='first')\n",
    "f1_lr_downsampled = best_param['f1_lr_downsampled'].values\n",
    "best_param"
   ]
  },
  {
   "cell_type": "markdown",
   "id": "6c419cd9",
   "metadata": {},
   "source": [
    "# Selecting"
   ]
  },
  {
   "cell_type": "code",
   "execution_count": 42,
   "id": "49792b98",
   "metadata": {},
   "outputs": [
    {
     "data": {
      "image/png": "[encoded data removed]",
      "text/plain": [
       "<Figure size 432x288 with 1 Axes>"
      ]
     },
     "metadata": {
      "needs_background": "light"
     },
     "output_type": "display_data"
    }
   ],
   "source": [
    "#Creating DF of default and tuned model scores\n",
    "models = pd.DataFrame({\n",
    "    'Model': ['dummy', 'dtc_imbalanced', 'lr_imbalanced', 'rfc_imbalance', 'dtc_balanced','lr_balanced',\n",
    "              'rfc_balanced', 'dtc_upsampled','lr_upsampled','rfc_upsampled', 'dtc_downsampled','lr_downsampled',\n",
    "              'rfc_downsampled'],\n",
    "    'Score': [f1_dummy, f1_dtc_imbalanced, f1_lr_imbalanced, f1_rfc_imbalanced, f1_dtc_balanced, f1_lr_balanced, \n",
    "              f1_rfc_balanced, f1_dtc_upsampled, f1_lr_upsampled, f1_rfc_upsampled, f1_dtc_downsampled, \n",
    "              f1_lr_downsampled, f1_rfc_downsampled]})\n",
    "sorted_by_score = models.sort_values(by='Score', ascending=False)\n",
    "sorted_by_score['Score']=sorted_by_score['Score'].astype('float')\n",
    "\n",
    "#Plotting\n",
    "ax=sns.barplot(x='Score', y = 'Model', data = sorted_by_score)\n",
    "ax.bar_label(ax.containers[0])\n",
    "plt.title('F1 Scores')\n",
    "plt.xlabel('F1 Score')\n",
    "plt.ylabel('Model');"
   ]
  },
  {
   "cell_type": "markdown",
   "id": "1f9e3ee1",
   "metadata": {},
   "source": [
    "The highest F1 score are for **rfc_balanced** and **dtc_balanced**, both using Class Weight Adjustment to handle the class imbalance. \n",
    "\n",
    "Random forest classifier uses multiple decision trees and picks features randomly during the training process, without depending on any specific feature set."
   ]
  },
  {
   "cell_type": "markdown",
   "id": "0d31fdac",
   "metadata": {},
   "source": [
    "# Testing"
   ]
  },
  {
   "cell_type": "code",
   "execution_count": 43,
   "id": "e6554373",
   "metadata": {},
   "outputs": [
    {
     "data": {
      "text/plain": [
       "63.58"
      ]
     },
     "execution_count": 43,
     "metadata": {},
     "output_type": "execute_result"
    }
   ],
   "source": [
    "#Standard Scaling\n",
    "X_train_all_scaled = sc.fit_transform(X_train_all)\n",
    "\n",
    "#Running test\n",
    "rfc = RandomForestClassifier(n_estimators=46, max_depth=7, random_state=12345, class_weight='balanced')\n",
    "rfc.fit(X_train_all_scaled, y_train_all)\n",
    "y_pred = rfc.predict(X_test)\n",
    "\n",
    "f1_rfc = round(f1_score(y_test,y_pred) * 100, 2)\n",
    "f1_rfc"
   ]
  },
  {
   "cell_type": "markdown",
   "id": "52c7d8ea",
   "metadata": {},
   "source": [
    "# Sanity check"
   ]
  },
  {
   "cell_type": "markdown",
   "id": "a7442b3c",
   "metadata": {},
   "source": [
    "The final RandomForestClassifier F1 score is 28.85% higher than the F1 baseline score of the DummyClassifier."
   ]
  },
  {
   "cell_type": "markdown",
   "id": "ce9a68b8",
   "metadata": {},
   "source": [
    "# AUC-ROC"
   ]
  },
  {
   "cell_type": "code",
   "execution_count": 44,
   "id": "92b26528",
   "metadata": {},
   "outputs": [
    {
     "data": {
      "text/plain": [
       "86.58"
      ]
     },
     "execution_count": 44,
     "metadata": {},
     "output_type": "execute_result"
    }
   ],
   "source": [
    "#Calculating AUC-ROC score (Area Under Curve Receiver Operating Characteristic)\n",
    "probabilities_test = rfc.predict_proba(X_test)\n",
    "probabilities_one_test = probabilities_test[:, 1]\n",
    "\n",
    "auc_roc = round(roc_auc_score(y_test, probabilities_one_test) * 100, 2)\n",
    "auc_roc"
   ]
  },
  {
   "cell_type": "markdown",
   "id": "61513a39",
   "metadata": {},
   "source": [
    "The AUC-ROC score is high, meaning our predictions are over 80% correct.\n",
    "\n",
    "The ROC curve takes the target values and the positive class probabilities, goes over different thresholds, and returns three lists: FPR values, TPR values, and the thresholds it went over.\n",
    "\n",
    "For a model that always answers randomly, the ROC curve is a diagonal line going from the lower left to the upper right. The higher the curve, the greater the TPR value and the better the model's quality."
   ]
  },
  {
   "cell_type": "code",
   "execution_count": 45,
   "id": "03144076",
   "metadata": {},
   "outputs": [
    {
     "data": {
      "image/png": "[encoded data removed]",
      "text/plain": [
       "<Figure size 360x216 with 1 Axes>"
      ]
     },
     "metadata": {
      "needs_background": "light"
     },
     "output_type": "display_data"
    }
   ],
   "source": [
    "#Plotting\n",
    "fpr, tpr, thresholds = roc_curve(y_test, probabilities_one_test) \n",
    "\n",
    "plt.figure(figsize=(5,3))\n",
    "plt.plot(fpr, tpr)\n",
    "\n",
    "plt.plot([0, 1], [0, 1], linestyle='--')\n",
    "plt.xlabel('False Positive Rate')\n",
    "plt.ylabel('True Positive Rate')\n",
    "plt.ylim([0.0, 1.0])\n",
    "plt.xlim([0.0, 1.0])\n",
    "plt.title('ROC curve');"
   ]
  },
  {
   "cell_type": "markdown",
   "id": "dde6e91f",
   "metadata": {},
   "source": [
    "ROC curve is higher than the diagonal, which is a good sign."
   ]
  },
  {
   "cell_type": "markdown",
   "id": "de2aef32",
   "metadata": {},
   "source": [
    "# Conclusion"
   ]
  },
  {
   "cell_type": "markdown",
   "id": "32369971",
   "metadata": {},
   "source": [
    "This project was about building a model with the maximum possible F1 score. \n",
    "\n",
    "We followed the methodology as follows:\n",
    "- Open data file and study general information.\n",
    "- Data preprocessing.\n",
    "- Split source data into sets.\n",
    "- Correct class imbalance (class weight adjustment, upsampling, downsampling).\n",
    "- Tune hyperparameters.\n",
    "- Investigate model quality by F1 score.\n",
    "- Find best model.\n",
    "- Testing with test set.\n",
    "- Model sanity check using DummyClassifier.\n",
    "- Calculate and plot AUC-ROC.\n",
    "- And now, final conclusion.\n",
    "\n",
    "Findings:\n",
    "- No outliers.\n",
    "- Most customers are in France and also exit the least. Germany has the highest churn rate.\n",
    "- Most customers are about 30-40 years old, distribution is positively skewed. \n",
    "- Most customers are male and are less likely to leave.\n",
    "- AUC-ROC is 86.66%, meaning our predictions are over 80% correct. ROC curve is higher than the diagonal which is a good sign.\n",
    "\n",
    "Results of tunning 3 learning algorithms (DecisionTreeClassifier, RandomForestClassifier and Logistic Regression) using training set indicated that RandomForestClassifier model has the highest F1 score of 63.26%. Further the model was retrained on the entire training set including validation set. Afterwards model was tested using the test set and reached 63.83%. \n",
    "\n",
    "Finally, model sanity check successfully resulted in the test score being 28.85% higher than the baseline score.\n",
    "\n",
    "In conclusion of this task, we indeed developed a model to predict whether a customer will leave the bank soon."
   ]
  }
 ],
 "metadata": {
  "kernelspec": {
   "display_name": "Python 3",
   "language": "python",
   "name": "python3"
  },
  "language_info": {
   "codemirror_mode": {
    "name": "ipython",
    "version": 3
   },
   "file_extension": ".py",
   "mimetype": "text/x-python",
   "name": "python",
   "nbconvert_exporter": "python",
   "pygments_lexer": "ipython3",
   "version": "3.8.8"
  },
  "toc": {
   "base_numbering": 1,
   "nav_menu": {},
   "number_sections": true,
   "sideBar": true,
   "skip_h1_title": false,
   "title_cell": "Table of Contents",
   "title_sidebar": "Contents",
   "toc_cell": false,
   "toc_position": {
    "height": "calc(100% - 180px)",
    "left": "10px",
    "top": "150px",
    "width": "209.51087951660156px"
   },
   "toc_section_display": true,
   "toc_window_display": true
  }
 },
 "nbformat": 4,
 "nbformat_minor": 5
}
